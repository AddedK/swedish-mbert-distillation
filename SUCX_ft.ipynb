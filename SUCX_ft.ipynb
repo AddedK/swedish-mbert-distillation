{
  "cells": [
    {
      "cell_type": "markdown",
      "metadata": {},
      "source": [
        "### This notebook fine-tunes student or teacher models on the SUCX 3.0 dataset.\n",
        "The code is heavily inspired by the Hugging Face token classification notebook\n",
        "\n",
        "__Note__ There are hard coded values that were relevant to me. _You_ need to specify _your_ paths for relevant files, such as where the saved students are."
      ]
    },
    {
      "cell_type": "code",
      "execution_count": null,
      "metadata": {
        "colab": {
          "base_uri": "https://localhost:8080/"
        },
        "id": "3nmBauViPNwr",
        "outputId": "8e7be0af-3af4-4baf-ef57-e4cb7b5a5594"
      },
      "outputs": [],
      "source": [
        "!pip install transformers\n",
        "!pip install datasets"
      ]
    },
    {
      "cell_type": "code",
      "execution_count": null,
      "metadata": {
        "colab": {
          "base_uri": "https://localhost:8080/"
        },
        "id": "gRzNHRcJRz0q",
        "outputId": "c20a68b1-02b9-43ad-b4b6-d18ef635fab1"
      },
      "outputs": [],
      "source": [
        "# Comment/uncomment whether or not you are using COLAB\n",
        "from google.colab import drive\n",
        "drive.mount('/content/drive')"
      ]
    },
    {
      "cell_type": "code",
      "execution_count": null,
      "metadata": {
        "colab": {
          "base_uri": "https://localhost:8080/"
        },
        "id": "OkcIcE1sPNws",
        "outputId": "cda20a62-23d3-4ae5-f17b-72a484e120fd"
      },
      "outputs": [],
      "source": [
        "!pip install seqeval"
      ]
    },
    {
      "cell_type": "code",
      "execution_count": null,
      "metadata": {
        "colab": {
          "base_uri": "https://localhost:8080/"
        },
        "id": "0HmE9doPPNwt",
        "outputId": "f4c6d4ce-56dd-4caf-ecd7-d8751ea9252c"
      },
      "outputs": [],
      "source": [
        "import torch\n",
        "import numpy as np\n",
        "print(torch.cuda.is_available())\n",
        "SEED = 100 # Seeds to be used: 100, 101, 102\n",
        "torch.manual_seed(SEED) \n",
        "np.random.seed(SEED)"
      ]
    },
    {
      "cell_type": "markdown",
      "metadata": {
        "id": "hRl5nPXoPNwu"
      },
      "source": [
        "#### Constants, remember to choose correct values"
      ]
    },
    {
      "cell_type": "code",
      "execution_count": 2,
      "metadata": {
        "id": "2GBbcphMPNwu"
      },
      "outputs": [],
      "source": [
        "FINE_TUNE_Teacher = False\n",
        "\n",
        "TRUNCATION = True # Affects how student model is initialized\n",
        "if TRUNCATION:\n",
        "    SUFFIX = \"truncated\"\n",
        "else:\n",
        "    SUFFIX = \"random\"\n",
        "\n",
        "DOING_VALIDATION = False\n",
        "if DOING_VALIDATION:\n",
        "    SIZE_STRING = \"VAL\" # To denote hyperparameter tuning\n",
        "else:\n",
        "    SIZE_STRING = \"FULL\"\n",
        "\n",
        "# Teacher model names ------\n",
        "# MODEL_NAME = \"KBBERT_12\" \n",
        "# MODEL_NAME = \"MBERT_12\" \n",
        "# MODEL_NAME = \"MBERT_ADAPT\"\n",
        "# MODEL_NAME = \"MBERT_SUPER_ADAPT\"\n",
        "\n",
        "# Student model names ------\n",
        "# MODEL_NAME = \"KBBERT_6\" # KBBERT_6 when training student from scratch, or when KB-BERT is used for task-specific distillation\n",
        "# MODEL_NAME = \"MBERT_6\"  # MBERT_6 when student is going to be task-distilled from MBERT\n",
        "MODEL_NAME = \"MBERT_6_ADAPT\" \n",
        "# MODEL_NAME = \"MBERT_6_SUPER_ADAPT\"\n",
        "\n",
        "# Full means training on entire train + val data\n",
        "if FINE_TUNE_Teacher:\n",
        "    OUTPUT_DIR = \"SUCX_FT_{3}_{0}_{1}_{2}\".format(SEED,MODEL_NAME,SUFFIX,SIZE_STRING)\n",
        "    MODEL_SAVE_FILE = \"SUCX_FT_{3}_{0}_{1}_{2}.pt\".format(SEED,MODEL_NAME,SUFFIX,SIZE_STRING)\n",
        "    if MODEL_NAME == \"MBERT_ADAPT\" or MODEL_NAME == \"MBERT_SUPER_ADAPT\":\n",
        "      MODEL_STATE = \"/content/drive/MyDrive/coding/mlm_GIGA_1990_100_MBERT_ADAPT_truncate.pt\" # <--- SPECIFY the file location \n",
        "else:\n",
        "    MODEL_STATE = \"/content/drive/MyDrive/coding/distilled_GIGA_FULL_100_MBERT_6_ADAPT_truncated.pth\" # <--- SPECIFY the file location \n",
        "    OUTPUT_DIR = \"SUCX_FT_{3}_{0}_{1}_{2}\".format(SEED,MODEL_NAME,SUFFIX,SIZE_STRING)\n",
        "    MODEL_SAVE_FILE = \"SUCX_FT_{3}_{0}_{1}_{2}.pt\".format(SEED,MODEL_NAME,SUFFIX,SIZE_STRING)"
      ]
    },
    {
      "cell_type": "code",
      "execution_count": null,
      "metadata": {
        "colab": {
          "base_uri": "https://localhost:8080/"
        },
        "id": "smYH8H0zPNwv",
        "outputId": "22dc8a56-d7b2-4766-f0b5-e9fc90e75f01"
      },
      "outputs": [],
      "source": [
        "print(\"SEED = {0}, MODEL_NAME = {1}\".format(SEED,MODEL_NAME))\n",
        "print(\"OUTPUT_DIR = {0}, MODEL_SAVE_FILE = {1}\".format(OUTPUT_DIR,MODEL_SAVE_FILE))"
      ]
    },
    {
      "cell_type": "code",
      "execution_count": null,
      "metadata": {
        "colab": {
          "base_uri": "https://localhost:8080/"
        },
        "id": "64xRhYiOThY0",
        "outputId": "0179b8a1-5e07-4cbf-e6d1-1afef7b2c242"
      },
      "outputs": [],
      "source": [
        "print(MODEL_STATE)"
      ]
    },
    {
      "cell_type": "markdown",
      "metadata": {
        "id": "q0uozARCPNwv"
      },
      "source": [
        "#### Training arguments"
      ]
    },
    {
      "cell_type": "code",
      "execution_count": 4,
      "metadata": {
        "id": "w26XmiK7PNww"
      },
      "outputs": [],
      "source": [
        "NUM_EPOCHS = 3\n",
        "WEIGHT_DECAY = 0.01\n",
        "LEARNING_RATE = 5e-5 # main candidates: 1e-4, 5e-5\n",
        "BATCH_SIZE = 8"
      ]
    },
    {
      "cell_type": "code",
      "execution_count": null,
      "metadata": {
        "colab": {
          "base_uri": "https://localhost:8080/"
        },
        "id": "PpSyzqbMPNwx",
        "outputId": "cb424a21-1002-4cab-def5-a1fc9b2305de"
      },
      "outputs": [],
      "source": [
        "print(LEARNING_RATE)"
      ]
    },
    {
      "cell_type": "markdown",
      "metadata": {
        "id": "CdarvY-CPNwx"
      },
      "source": [
        "#### Download data"
      ]
    },
    {
      "cell_type": "code",
      "execution_count": null,
      "metadata": {
        "colab": {
          "base_uri": "https://localhost:8080/",
          "height": 67,
          "referenced_widgets": [
            "96cf098b9a244f589a583960dc166ba9",
            "8335555ae15442369e6c6d53884a57e2",
            "57a030da452047c899f4ffb514003d3d",
            "b293025eef3d46e0ba1b3961e1686116",
            "9efcdd5dcef841ad8591012b9f9946b6",
            "a8940247a51840e3beeda55aa656f5f9",
            "d6ed318669f641839ddadd5d953fa7a9",
            "23fe2799e0964a03a8c93205de4de7c5",
            "2c3c5522a43a48e6af91b9a72c12f658",
            "e6a745ea2c004f7782ecee58f9b1d9dc",
            "598cc4d56d104e81935b3d1ece372167"
          ]
        },
        "id": "_pfNZQHzPNwx",
        "outputId": "157d00d5-67f4-497f-dc29-11f22a40893c"
      },
      "outputs": [],
      "source": [
        "import torch\n",
        "from datasets import load_dataset\n",
        "\n",
        "if DOING_VALIDATION:\n",
        "    raw_dataset_train, raw_dataset_val = load_dataset('KBLab/sucx3_ner','original_cased', split=['train', 'validation'])\n",
        "# Note the merging of train and validation\n",
        "else:\n",
        "    raw_dataset_train, raw_dataset_val = load_dataset('KBLab/sucx3_ner','original_cased', split=['train+validation', 'test'])"
      ]
    },
    {
      "cell_type": "code",
      "execution_count": null,
      "metadata": {
        "colab": {
          "base_uri": "https://localhost:8080/"
        },
        "id": "kidAe-BYPNwy",
        "outputId": "f0144f99-1141-46ca-f92c-72a15cb51cc9"
      },
      "outputs": [],
      "source": [
        "print(raw_dataset_train)\n",
        "print(raw_dataset_val)"
      ]
    },
    {
      "cell_type": "code",
      "execution_count": null,
      "metadata": {
        "colab": {
          "base_uri": "https://localhost:8080/"
        },
        "id": "SYPnpzc2PNwy",
        "outputId": "44090eb5-0484-48b9-ad0b-29f2306875c7"
      },
      "outputs": [],
      "source": [
        "label2id = {'B-animal': 0, 'I-person': 1, 'B-other': 2, 'I-inst': 3, 'O': 4, 'I-myth': 5, 'I-event': 6, 'I-other': 7, 'I-product': 8, 'B-event': 9, 'B-place': 10, 'I-animal': 11, 'B-myth': 12, 'I-work': 13, 'B-person': 14, 'B-work': 15, 'B-product': 16, 'B-inst': 17, 'I-place': 18}\n",
        "id2label = {0: 'B-animal', 1: 'I-person', 2: 'B-other', 3: 'I-inst', 4: 'O', 5: 'I-myth', 6: 'I-event', 7: 'I-other', 8: 'I-product', 9: 'B-event', 10: 'B-place', 11: 'I-animal', 12: 'B-myth', 13: 'I-work', 14: 'B-person', 15: 'B-work', 16: 'B-product', 17: 'B-inst', 18: 'I-place'}\n",
        "label_names = []\n",
        "for k, v in id2label.items():\n",
        "    label_names.append(v)\n",
        "ner_tag_length = len(id2label)\n",
        "print(label_names)"
      ]
    },
    {
      "cell_type": "markdown",
      "metadata": {
        "id": "6S82CYZAPNwz"
      },
      "source": [
        "#### Choose tokenizer"
      ]
    },
    {
      "cell_type": "code",
      "execution_count": 9,
      "metadata": {
        "id": "GqrO3T4zPNwz"
      },
      "outputs": [],
      "source": [
        "from transformers import AutoTokenizer\n",
        "\n",
        "if \"KBBERT\" in MODEL_NAME:\n",
        "    teacher_finetuned_name = \"KB/bert-base-swedish-cased\" \n",
        "elif \"MBERT\" in MODEL_NAME:\n",
        "    teacher_finetuned_name = \"bert-base-multilingual-cased\"\n",
        "else:\n",
        "    raise Exception(\"Undefined MODEL_NAME {0}\".format(MODEL_NAME))\n",
        "\n",
        "tokenizer = AutoTokenizer.from_pretrained(teacher_finetuned_name)"
      ]
    },
    {
      "cell_type": "code",
      "execution_count": 10,
      "metadata": {
        "id": "PWdRdTo8PNwz"
      },
      "outputs": [],
      "source": [
        "### We do dynamic padding, use data_collator for trainer\n",
        "from transformers import DataCollatorForTokenClassification\n",
        "\n",
        "data_collator = DataCollatorForTokenClassification(tokenizer=tokenizer)"
      ]
    },
    {
      "cell_type": "code",
      "execution_count": 11,
      "metadata": {
        "id": "mClH7_WyPNw0"
      },
      "outputs": [],
      "source": [
        "def tokenize_and_align_labels(examples):\n",
        "\n",
        "    tokenized_inputs = tokenizer(examples[\"tokens\"], truncation=True, is_split_into_words=True)\n",
        "\n",
        "    labels = []\n",
        "\n",
        "    for i, label in enumerate(examples[f\"ner_tags\"]):\n",
        "\n",
        "        word_ids = tokenized_inputs.word_ids(batch_index=i)  # Map tokens to their respective word.\n",
        "\n",
        "        previous_word_idx = None\n",
        "\n",
        "        label_ids = []\n",
        "\n",
        "        for word_idx in word_ids:  # Set the special tokens to -100.\n",
        "\n",
        "            if word_idx is None:\n",
        "\n",
        "                label_ids.append(-100)\n",
        "\n",
        "            elif word_idx != previous_word_idx:  # Only label the first token of a given word.\n",
        "\n",
        "                label_ids.append(label2id[label[word_idx]]) # Modified to turn it into an int\n",
        "\n",
        "            else:\n",
        "\n",
        "                label_ids.append(-100)\n",
        "\n",
        "            previous_word_idx = word_idx\n",
        "\n",
        "        labels.append(label_ids)\n",
        "\n",
        "    tokenized_inputs[\"labels\"] = labels\n",
        "\n",
        "    return tokenized_inputs"
      ]
    },
    {
      "cell_type": "code",
      "execution_count": null,
      "metadata": {
        "colab": {
          "base_uri": "https://localhost:8080/",
          "height": 67,
          "referenced_widgets": [
            "31f6627b5a0d4c63b9884510143816ea",
            "e836eb68bc064d52a206a490f240493c",
            "e3aa9127c7e54b19a3f61408e96cb25e",
            "456efa1d656f40f2888832f740cdb5ce",
            "95cb9e3db24c4b74baba290751a48e53",
            "f33229e02d274890b52b54277e79b512",
            "f03c1ed77dc847f3b6f46bbcd3d4d7f3",
            "de1949d27b23465092f83a816b5edad3",
            "62a191dd794e4490b7c5f5f30c452a48",
            "e9081e5be71d4bb7a44128cb753d8455",
            "c596027590584ffd9ec98ec626607d3d"
          ]
        },
        "id": "gusn8kcsPNw0",
        "outputId": "79af0ffc-b53e-47cb-ee59-85fb327af13e"
      },
      "outputs": [],
      "source": [
        "tokenized_suc_train = raw_dataset_train.map(tokenize_and_align_labels, batched=True, remove_columns=raw_dataset_train.column_names)\n",
        "if DOING_VALIDATION:\n",
        "    tokenized_suc_val = raw_dataset_val.map(tokenize_and_align_labels, batched=True, remove_columns=raw_dataset_train.column_names)\n",
        "else:\n",
        "    tokenized_suc_val = raw_dataset_val.map(tokenize_and_align_labels, batched=True, remove_columns=raw_dataset_train.column_names)"
      ]
    },
    {
      "cell_type": "code",
      "execution_count": null,
      "metadata": {
        "colab": {
          "base_uri": "https://localhost:8080/"
        },
        "id": "KEzpG-kOPNw0",
        "outputId": "b0f78aaf-7201-42e2-cf5e-837a94067333"
      },
      "outputs": [],
      "source": [
        "print(tokenized_suc_train)\n",
        "print(tokenized_suc_val)"
      ]
    },
    {
      "cell_type": "markdown",
      "metadata": {
        "id": "_P657r3mPNw0"
      },
      "source": [
        "#### Metric code"
      ]
    },
    {
      "cell_type": "code",
      "execution_count": 14,
      "metadata": {
        "id": "uHNCfqEfPNw1"
      },
      "outputs": [],
      "source": [
        "from datasets import load_metric\n",
        "\n",
        "metric = load_metric(\"seqeval\")"
      ]
    },
    {
      "cell_type": "code",
      "execution_count": 15,
      "metadata": {
        "id": "8fitRqbPPNw1"
      },
      "outputs": [],
      "source": [
        "import numpy as np\n",
        "\n",
        "\n",
        "def compute_metrics(eval_preds):\n",
        "    logits, labels = eval_preds\n",
        "    predictions = np.argmax(logits, axis=-1)\n",
        "\n",
        "    # Remove ignored index (special tokens) and convert to labels\n",
        "    true_labels = [[label_names[l] for l in label if l != -100] for label in labels]\n",
        "    true_predictions = [\n",
        "        [label_names[p] for (p, l) in zip(prediction, label) if l != -100]\n",
        "        for prediction, label in zip(predictions, labels)\n",
        "    ]\n",
        "    all_metrics = metric.compute(predictions=true_predictions, references=true_labels)\n",
        "    return {\n",
        "        \"precision\": all_metrics[\"overall_precision\"],\n",
        "        \"recall\": all_metrics[\"overall_recall\"],\n",
        "        \"f1\": all_metrics[\"overall_f1\"],\n",
        "        \"accuracy\": all_metrics[\"overall_accuracy\"],\n",
        "    }"
      ]
    },
    {
      "cell_type": "code",
      "execution_count": null,
      "metadata": {
        "colab": {
          "base_uri": "https://localhost:8080/"
        },
        "id": "jl7HG5ZJPNw1",
        "outputId": "d871bc01-b4de-491f-8583-0055c95f5527"
      },
      "outputs": [],
      "source": [
        "# Load the models\n",
        "# For the 6-layer student variants and further pre-trained mBERT_12 a state file must be provided\n",
        "\n",
        "from transformers import AutoModelForTokenClassification, BertConfig\n",
        "\n",
        "if MODEL_NAME == \"KBBERT_12\" or MODEL_NAME == \"MBERT_12\" :\n",
        "    model = AutoModelForTokenClassification.from_pretrained(\n",
        "    teacher_finetuned_name,\n",
        "    id2label=id2label,\n",
        "    label2id=label2id,\n",
        "    )\n",
        "elif MODEL_NAME == \"MBERT_ADAPT\":\n",
        "    model_config = BertConfig.from_pretrained(teacher_finetuned_name)\n",
        "    model_config.num_labels = ner_tag_length \n",
        "    model = AutoModelForTokenClassification.from_pretrained(MODEL_STATE,config = model_config)\n",
        "else:\n",
        "    print(\"student\")\n",
        "    model_config = BertConfig.from_pretrained(teacher_finetuned_name)\n",
        "    model_config.num_labels = ner_tag_length \n",
        "    model_config.num_hidden_layers = 6\n",
        "    model = AutoModelForTokenClassification.from_pretrained(MODEL_STATE,config = model_config) \n"
      ]
    },
    {
      "cell_type": "markdown",
      "metadata": {
        "id": "uXCtse1BPNw1"
      },
      "source": [
        "### Setup trainer"
      ]
    },
    {
      "cell_type": "code",
      "execution_count": null,
      "metadata": {
        "colab": {
          "base_uri": "https://localhost:8080/"
        },
        "id": "yernVNHxPNw2",
        "outputId": "6e7a27ed-19ca-4884-a9df-1767e1f97e2c"
      },
      "outputs": [],
      "source": [
        "from transformers import TrainingArguments\n",
        "from transformers import get_linear_schedule_with_warmup\n",
        "from transformers import AdamW\n",
        "from torch.utils.data import DataLoader\n",
        "\n",
        "\n",
        "train_dataloader =  DataLoader(tokenized_suc_train, shuffle=True, batch_size=BATCH_SIZE)\n",
        "num_training_steps = len(train_dataloader) * NUM_EPOCHS\n",
        "del train_dataloader\n",
        "\n",
        "optimizer = AdamW(model.parameters(), lr= LEARNING_RATE)\n",
        "scheduler_class = get_linear_schedule_with_warmup(optimizer,num_warmup_steps = 0.1*num_training_steps, num_training_steps = num_training_steps)\n",
        "\n",
        "\n",
        "args = TrainingArguments(\n",
        "    OUTPUT_DIR,\n",
        "    evaluation_strategy=\"epoch\",\n",
        "    save_strategy=\"epoch\",\n",
        "    learning_rate= LEARNING_RATE,\n",
        "    num_train_epochs=NUM_EPOCHS ,\n",
        "    weight_decay= WEIGHT_DECAY,\n",
        "    per_device_train_batch_size = BATCH_SIZE, \n",
        "    per_device_eval_batch_size = BATCH_SIZE,\n",
        ")"
      ]
    },
    {
      "cell_type": "code",
      "execution_count": 18,
      "metadata": {
        "id": "3X7MNOQFPNw3"
      },
      "outputs": [],
      "source": [
        "from transformers import Trainer\n",
        "\n",
        "trainer = Trainer(\n",
        "    model=model,\n",
        "    args=args,\n",
        "    train_dataset = tokenized_suc_train,\n",
        "    eval_dataset = tokenized_suc_val,\n",
        "    data_collator=data_collator,\n",
        "    compute_metrics=compute_metrics,\n",
        "    tokenizer=tokenizer,\n",
        "    optimizers = (optimizer,scheduler_class)\n",
        ")"
      ]
    },
    {
      "cell_type": "code",
      "execution_count": null,
      "metadata": {
        "colab": {
          "base_uri": "https://localhost:8080/",
          "height": 846
        },
        "id": "Mc7OAbnJPNw3",
        "outputId": "c3227740-14b5-4bab-895c-f16d2c074aa7"
      },
      "outputs": [],
      "source": [
        "trainer.train()"
      ]
    }
  ],
  "metadata": {
    "colab": {
      "collapsed_sections": [],
      "name": "SUCX_ft.ipynb",
      "provenance": []
    },
    "interpreter": {
      "hash": "c9881c1cf189c60a30ca5446219c7a4166d356f566ba0ac739770bc439e80d8c"
    },
    "kernelspec": {
      "display_name": "Python 3.9.7 ('jalamar')",
      "language": "python",
      "name": "python3"
    },
    "language_info": {
      "codemirror_mode": {
        "name": "ipython",
        "version": 3
      },
      "file_extension": ".py",
      "mimetype": "text/x-python",
      "name": "python",
      "nbconvert_exporter": "python",
      "pygments_lexer": "ipython3",
      "version": "3.9.7"
    },
    "widgets": {
      "application/vnd.jupyter.widget-state+json": {
        "23fe2799e0964a03a8c93205de4de7c5": {
          "model_module": "@jupyter-widgets/base",
          "model_module_version": "1.2.0",
          "model_name": "LayoutModel",
          "state": {
            "_model_module": "@jupyter-widgets/base",
            "_model_module_version": "1.2.0",
            "_model_name": "LayoutModel",
            "_view_count": null,
            "_view_module": "@jupyter-widgets/base",
            "_view_module_version": "1.2.0",
            "_view_name": "LayoutView",
            "align_content": null,
            "align_items": null,
            "align_self": null,
            "border": null,
            "bottom": null,
            "display": null,
            "flex": null,
            "flex_flow": null,
            "grid_area": null,
            "grid_auto_columns": null,
            "grid_auto_flow": null,
            "grid_auto_rows": null,
            "grid_column": null,
            "grid_gap": null,
            "grid_row": null,
            "grid_template_areas": null,
            "grid_template_columns": null,
            "grid_template_rows": null,
            "height": null,
            "justify_content": null,
            "justify_items": null,
            "left": null,
            "margin": null,
            "max_height": null,
            "max_width": null,
            "min_height": null,
            "min_width": null,
            "object_fit": null,
            "object_position": null,
            "order": null,
            "overflow": null,
            "overflow_x": null,
            "overflow_y": null,
            "padding": null,
            "right": null,
            "top": null,
            "visibility": null,
            "width": null
          }
        },
        "2c3c5522a43a48e6af91b9a72c12f658": {
          "model_module": "@jupyter-widgets/controls",
          "model_module_version": "1.5.0",
          "model_name": "ProgressStyleModel",
          "state": {
            "_model_module": "@jupyter-widgets/controls",
            "_model_module_version": "1.5.0",
            "_model_name": "ProgressStyleModel",
            "_view_count": null,
            "_view_module": "@jupyter-widgets/base",
            "_view_module_version": "1.2.0",
            "_view_name": "StyleView",
            "bar_color": null,
            "description_width": ""
          }
        },
        "31f6627b5a0d4c63b9884510143816ea": {
          "model_module": "@jupyter-widgets/controls",
          "model_module_version": "1.5.0",
          "model_name": "HBoxModel",
          "state": {
            "_dom_classes": [],
            "_model_module": "@jupyter-widgets/controls",
            "_model_module_version": "1.5.0",
            "_model_name": "HBoxModel",
            "_view_count": null,
            "_view_module": "@jupyter-widgets/controls",
            "_view_module_version": "1.5.0",
            "_view_name": "HBoxView",
            "box_style": "",
            "children": [
              "IPY_MODEL_e836eb68bc064d52a206a490f240493c",
              "IPY_MODEL_e3aa9127c7e54b19a3f61408e96cb25e",
              "IPY_MODEL_456efa1d656f40f2888832f740cdb5ce"
            ],
            "layout": "IPY_MODEL_95cb9e3db24c4b74baba290751a48e53"
          }
        },
        "456efa1d656f40f2888832f740cdb5ce": {
          "model_module": "@jupyter-widgets/controls",
          "model_module_version": "1.5.0",
          "model_name": "HTMLModel",
          "state": {
            "_dom_classes": [],
            "_model_module": "@jupyter-widgets/controls",
            "_model_module_version": "1.5.0",
            "_model_name": "HTMLModel",
            "_view_count": null,
            "_view_module": "@jupyter-widgets/controls",
            "_view_module_version": "1.5.0",
            "_view_name": "HTMLView",
            "description": "",
            "description_tooltip": null,
            "layout": "IPY_MODEL_e9081e5be71d4bb7a44128cb753d8455",
            "placeholder": "​",
            "style": "IPY_MODEL_c596027590584ffd9ec98ec626607d3d",
            "value": " 15/15 [00:03&lt;00:00,  6.05ba/s]"
          }
        },
        "57a030da452047c899f4ffb514003d3d": {
          "model_module": "@jupyter-widgets/controls",
          "model_module_version": "1.5.0",
          "model_name": "FloatProgressModel",
          "state": {
            "_dom_classes": [],
            "_model_module": "@jupyter-widgets/controls",
            "_model_module_version": "1.5.0",
            "_model_name": "FloatProgressModel",
            "_view_count": null,
            "_view_module": "@jupyter-widgets/controls",
            "_view_module_version": "1.5.0",
            "_view_name": "ProgressView",
            "bar_style": "success",
            "description": "",
            "description_tooltip": null,
            "layout": "IPY_MODEL_23fe2799e0964a03a8c93205de4de7c5",
            "max": 2,
            "min": 0,
            "orientation": "horizontal",
            "style": "IPY_MODEL_2c3c5522a43a48e6af91b9a72c12f658",
            "value": 2
          }
        },
        "598cc4d56d104e81935b3d1ece372167": {
          "model_module": "@jupyter-widgets/controls",
          "model_module_version": "1.5.0",
          "model_name": "DescriptionStyleModel",
          "state": {
            "_model_module": "@jupyter-widgets/controls",
            "_model_module_version": "1.5.0",
            "_model_name": "DescriptionStyleModel",
            "_view_count": null,
            "_view_module": "@jupyter-widgets/base",
            "_view_module_version": "1.2.0",
            "_view_name": "StyleView",
            "description_width": ""
          }
        },
        "62a191dd794e4490b7c5f5f30c452a48": {
          "model_module": "@jupyter-widgets/controls",
          "model_module_version": "1.5.0",
          "model_name": "ProgressStyleModel",
          "state": {
            "_model_module": "@jupyter-widgets/controls",
            "_model_module_version": "1.5.0",
            "_model_name": "ProgressStyleModel",
            "_view_count": null,
            "_view_module": "@jupyter-widgets/base",
            "_view_module_version": "1.2.0",
            "_view_name": "StyleView",
            "bar_color": null,
            "description_width": ""
          }
        },
        "8335555ae15442369e6c6d53884a57e2": {
          "model_module": "@jupyter-widgets/controls",
          "model_module_version": "1.5.0",
          "model_name": "HTMLModel",
          "state": {
            "_dom_classes": [],
            "_model_module": "@jupyter-widgets/controls",
            "_model_module_version": "1.5.0",
            "_model_name": "HTMLModel",
            "_view_count": null,
            "_view_module": "@jupyter-widgets/controls",
            "_view_module_version": "1.5.0",
            "_view_name": "HTMLView",
            "description": "",
            "description_tooltip": null,
            "layout": "IPY_MODEL_a8940247a51840e3beeda55aa656f5f9",
            "placeholder": "​",
            "style": "IPY_MODEL_d6ed318669f641839ddadd5d953fa7a9",
            "value": "100%"
          }
        },
        "95cb9e3db24c4b74baba290751a48e53": {
          "model_module": "@jupyter-widgets/base",
          "model_module_version": "1.2.0",
          "model_name": "LayoutModel",
          "state": {
            "_model_module": "@jupyter-widgets/base",
            "_model_module_version": "1.2.0",
            "_model_name": "LayoutModel",
            "_view_count": null,
            "_view_module": "@jupyter-widgets/base",
            "_view_module_version": "1.2.0",
            "_view_name": "LayoutView",
            "align_content": null,
            "align_items": null,
            "align_self": null,
            "border": null,
            "bottom": null,
            "display": null,
            "flex": null,
            "flex_flow": null,
            "grid_area": null,
            "grid_auto_columns": null,
            "grid_auto_flow": null,
            "grid_auto_rows": null,
            "grid_column": null,
            "grid_gap": null,
            "grid_row": null,
            "grid_template_areas": null,
            "grid_template_columns": null,
            "grid_template_rows": null,
            "height": null,
            "justify_content": null,
            "justify_items": null,
            "left": null,
            "margin": null,
            "max_height": null,
            "max_width": null,
            "min_height": null,
            "min_width": null,
            "object_fit": null,
            "object_position": null,
            "order": null,
            "overflow": null,
            "overflow_x": null,
            "overflow_y": null,
            "padding": null,
            "right": null,
            "top": null,
            "visibility": null,
            "width": null
          }
        },
        "96cf098b9a244f589a583960dc166ba9": {
          "model_module": "@jupyter-widgets/controls",
          "model_module_version": "1.5.0",
          "model_name": "HBoxModel",
          "state": {
            "_dom_classes": [],
            "_model_module": "@jupyter-widgets/controls",
            "_model_module_version": "1.5.0",
            "_model_name": "HBoxModel",
            "_view_count": null,
            "_view_module": "@jupyter-widgets/controls",
            "_view_module_version": "1.5.0",
            "_view_name": "HBoxView",
            "box_style": "",
            "children": [
              "IPY_MODEL_8335555ae15442369e6c6d53884a57e2",
              "IPY_MODEL_57a030da452047c899f4ffb514003d3d",
              "IPY_MODEL_b293025eef3d46e0ba1b3961e1686116"
            ],
            "layout": "IPY_MODEL_9efcdd5dcef841ad8591012b9f9946b6"
          }
        },
        "9efcdd5dcef841ad8591012b9f9946b6": {
          "model_module": "@jupyter-widgets/base",
          "model_module_version": "1.2.0",
          "model_name": "LayoutModel",
          "state": {
            "_model_module": "@jupyter-widgets/base",
            "_model_module_version": "1.2.0",
            "_model_name": "LayoutModel",
            "_view_count": null,
            "_view_module": "@jupyter-widgets/base",
            "_view_module_version": "1.2.0",
            "_view_name": "LayoutView",
            "align_content": null,
            "align_items": null,
            "align_self": null,
            "border": null,
            "bottom": null,
            "display": null,
            "flex": null,
            "flex_flow": null,
            "grid_area": null,
            "grid_auto_columns": null,
            "grid_auto_flow": null,
            "grid_auto_rows": null,
            "grid_column": null,
            "grid_gap": null,
            "grid_row": null,
            "grid_template_areas": null,
            "grid_template_columns": null,
            "grid_template_rows": null,
            "height": null,
            "justify_content": null,
            "justify_items": null,
            "left": null,
            "margin": null,
            "max_height": null,
            "max_width": null,
            "min_height": null,
            "min_width": null,
            "object_fit": null,
            "object_position": null,
            "order": null,
            "overflow": null,
            "overflow_x": null,
            "overflow_y": null,
            "padding": null,
            "right": null,
            "top": null,
            "visibility": null,
            "width": null
          }
        },
        "a8940247a51840e3beeda55aa656f5f9": {
          "model_module": "@jupyter-widgets/base",
          "model_module_version": "1.2.0",
          "model_name": "LayoutModel",
          "state": {
            "_model_module": "@jupyter-widgets/base",
            "_model_module_version": "1.2.0",
            "_model_name": "LayoutModel",
            "_view_count": null,
            "_view_module": "@jupyter-widgets/base",
            "_view_module_version": "1.2.0",
            "_view_name": "LayoutView",
            "align_content": null,
            "align_items": null,
            "align_self": null,
            "border": null,
            "bottom": null,
            "display": null,
            "flex": null,
            "flex_flow": null,
            "grid_area": null,
            "grid_auto_columns": null,
            "grid_auto_flow": null,
            "grid_auto_rows": null,
            "grid_column": null,
            "grid_gap": null,
            "grid_row": null,
            "grid_template_areas": null,
            "grid_template_columns": null,
            "grid_template_rows": null,
            "height": null,
            "justify_content": null,
            "justify_items": null,
            "left": null,
            "margin": null,
            "max_height": null,
            "max_width": null,
            "min_height": null,
            "min_width": null,
            "object_fit": null,
            "object_position": null,
            "order": null,
            "overflow": null,
            "overflow_x": null,
            "overflow_y": null,
            "padding": null,
            "right": null,
            "top": null,
            "visibility": null,
            "width": null
          }
        },
        "b293025eef3d46e0ba1b3961e1686116": {
          "model_module": "@jupyter-widgets/controls",
          "model_module_version": "1.5.0",
          "model_name": "HTMLModel",
          "state": {
            "_dom_classes": [],
            "_model_module": "@jupyter-widgets/controls",
            "_model_module_version": "1.5.0",
            "_model_name": "HTMLModel",
            "_view_count": null,
            "_view_module": "@jupyter-widgets/controls",
            "_view_module_version": "1.5.0",
            "_view_name": "HTMLView",
            "description": "",
            "description_tooltip": null,
            "layout": "IPY_MODEL_e6a745ea2c004f7782ecee58f9b1d9dc",
            "placeholder": "​",
            "style": "IPY_MODEL_598cc4d56d104e81935b3d1ece372167",
            "value": " 2/2 [00:00&lt;00:00,  7.67it/s]"
          }
        },
        "c596027590584ffd9ec98ec626607d3d": {
          "model_module": "@jupyter-widgets/controls",
          "model_module_version": "1.5.0",
          "model_name": "DescriptionStyleModel",
          "state": {
            "_model_module": "@jupyter-widgets/controls",
            "_model_module_version": "1.5.0",
            "_model_name": "DescriptionStyleModel",
            "_view_count": null,
            "_view_module": "@jupyter-widgets/base",
            "_view_module_version": "1.2.0",
            "_view_name": "StyleView",
            "description_width": ""
          }
        },
        "d6ed318669f641839ddadd5d953fa7a9": {
          "model_module": "@jupyter-widgets/controls",
          "model_module_version": "1.5.0",
          "model_name": "DescriptionStyleModel",
          "state": {
            "_model_module": "@jupyter-widgets/controls",
            "_model_module_version": "1.5.0",
            "_model_name": "DescriptionStyleModel",
            "_view_count": null,
            "_view_module": "@jupyter-widgets/base",
            "_view_module_version": "1.2.0",
            "_view_name": "StyleView",
            "description_width": ""
          }
        },
        "de1949d27b23465092f83a816b5edad3": {
          "model_module": "@jupyter-widgets/base",
          "model_module_version": "1.2.0",
          "model_name": "LayoutModel",
          "state": {
            "_model_module": "@jupyter-widgets/base",
            "_model_module_version": "1.2.0",
            "_model_name": "LayoutModel",
            "_view_count": null,
            "_view_module": "@jupyter-widgets/base",
            "_view_module_version": "1.2.0",
            "_view_name": "LayoutView",
            "align_content": null,
            "align_items": null,
            "align_self": null,
            "border": null,
            "bottom": null,
            "display": null,
            "flex": null,
            "flex_flow": null,
            "grid_area": null,
            "grid_auto_columns": null,
            "grid_auto_flow": null,
            "grid_auto_rows": null,
            "grid_column": null,
            "grid_gap": null,
            "grid_row": null,
            "grid_template_areas": null,
            "grid_template_columns": null,
            "grid_template_rows": null,
            "height": null,
            "justify_content": null,
            "justify_items": null,
            "left": null,
            "margin": null,
            "max_height": null,
            "max_width": null,
            "min_height": null,
            "min_width": null,
            "object_fit": null,
            "object_position": null,
            "order": null,
            "overflow": null,
            "overflow_x": null,
            "overflow_y": null,
            "padding": null,
            "right": null,
            "top": null,
            "visibility": null,
            "width": null
          }
        },
        "e3aa9127c7e54b19a3f61408e96cb25e": {
          "model_module": "@jupyter-widgets/controls",
          "model_module_version": "1.5.0",
          "model_name": "FloatProgressModel",
          "state": {
            "_dom_classes": [],
            "_model_module": "@jupyter-widgets/controls",
            "_model_module_version": "1.5.0",
            "_model_name": "FloatProgressModel",
            "_view_count": null,
            "_view_module": "@jupyter-widgets/controls",
            "_view_module_version": "1.5.0",
            "_view_name": "ProgressView",
            "bar_style": "success",
            "description": "",
            "description_tooltip": null,
            "layout": "IPY_MODEL_de1949d27b23465092f83a816b5edad3",
            "max": 15,
            "min": 0,
            "orientation": "horizontal",
            "style": "IPY_MODEL_62a191dd794e4490b7c5f5f30c452a48",
            "value": 15
          }
        },
        "e6a745ea2c004f7782ecee58f9b1d9dc": {
          "model_module": "@jupyter-widgets/base",
          "model_module_version": "1.2.0",
          "model_name": "LayoutModel",
          "state": {
            "_model_module": "@jupyter-widgets/base",
            "_model_module_version": "1.2.0",
            "_model_name": "LayoutModel",
            "_view_count": null,
            "_view_module": "@jupyter-widgets/base",
            "_view_module_version": "1.2.0",
            "_view_name": "LayoutView",
            "align_content": null,
            "align_items": null,
            "align_self": null,
            "border": null,
            "bottom": null,
            "display": null,
            "flex": null,
            "flex_flow": null,
            "grid_area": null,
            "grid_auto_columns": null,
            "grid_auto_flow": null,
            "grid_auto_rows": null,
            "grid_column": null,
            "grid_gap": null,
            "grid_row": null,
            "grid_template_areas": null,
            "grid_template_columns": null,
            "grid_template_rows": null,
            "height": null,
            "justify_content": null,
            "justify_items": null,
            "left": null,
            "margin": null,
            "max_height": null,
            "max_width": null,
            "min_height": null,
            "min_width": null,
            "object_fit": null,
            "object_position": null,
            "order": null,
            "overflow": null,
            "overflow_x": null,
            "overflow_y": null,
            "padding": null,
            "right": null,
            "top": null,
            "visibility": null,
            "width": null
          }
        },
        "e836eb68bc064d52a206a490f240493c": {
          "model_module": "@jupyter-widgets/controls",
          "model_module_version": "1.5.0",
          "model_name": "HTMLModel",
          "state": {
            "_dom_classes": [],
            "_model_module": "@jupyter-widgets/controls",
            "_model_module_version": "1.5.0",
            "_model_name": "HTMLModel",
            "_view_count": null,
            "_view_module": "@jupyter-widgets/controls",
            "_view_module_version": "1.5.0",
            "_view_name": "HTMLView",
            "description": "",
            "description_tooltip": null,
            "layout": "IPY_MODEL_f33229e02d274890b52b54277e79b512",
            "placeholder": "​",
            "style": "IPY_MODEL_f03c1ed77dc847f3b6f46bbcd3d4d7f3",
            "value": "100%"
          }
        },
        "e9081e5be71d4bb7a44128cb753d8455": {
          "model_module": "@jupyter-widgets/base",
          "model_module_version": "1.2.0",
          "model_name": "LayoutModel",
          "state": {
            "_model_module": "@jupyter-widgets/base",
            "_model_module_version": "1.2.0",
            "_model_name": "LayoutModel",
            "_view_count": null,
            "_view_module": "@jupyter-widgets/base",
            "_view_module_version": "1.2.0",
            "_view_name": "LayoutView",
            "align_content": null,
            "align_items": null,
            "align_self": null,
            "border": null,
            "bottom": null,
            "display": null,
            "flex": null,
            "flex_flow": null,
            "grid_area": null,
            "grid_auto_columns": null,
            "grid_auto_flow": null,
            "grid_auto_rows": null,
            "grid_column": null,
            "grid_gap": null,
            "grid_row": null,
            "grid_template_areas": null,
            "grid_template_columns": null,
            "grid_template_rows": null,
            "height": null,
            "justify_content": null,
            "justify_items": null,
            "left": null,
            "margin": null,
            "max_height": null,
            "max_width": null,
            "min_height": null,
            "min_width": null,
            "object_fit": null,
            "object_position": null,
            "order": null,
            "overflow": null,
            "overflow_x": null,
            "overflow_y": null,
            "padding": null,
            "right": null,
            "top": null,
            "visibility": null,
            "width": null
          }
        },
        "f03c1ed77dc847f3b6f46bbcd3d4d7f3": {
          "model_module": "@jupyter-widgets/controls",
          "model_module_version": "1.5.0",
          "model_name": "DescriptionStyleModel",
          "state": {
            "_model_module": "@jupyter-widgets/controls",
            "_model_module_version": "1.5.0",
            "_model_name": "DescriptionStyleModel",
            "_view_count": null,
            "_view_module": "@jupyter-widgets/base",
            "_view_module_version": "1.2.0",
            "_view_name": "StyleView",
            "description_width": ""
          }
        },
        "f33229e02d274890b52b54277e79b512": {
          "model_module": "@jupyter-widgets/base",
          "model_module_version": "1.2.0",
          "model_name": "LayoutModel",
          "state": {
            "_model_module": "@jupyter-widgets/base",
            "_model_module_version": "1.2.0",
            "_model_name": "LayoutModel",
            "_view_count": null,
            "_view_module": "@jupyter-widgets/base",
            "_view_module_version": "1.2.0",
            "_view_name": "LayoutView",
            "align_content": null,
            "align_items": null,
            "align_self": null,
            "border": null,
            "bottom": null,
            "display": null,
            "flex": null,
            "flex_flow": null,
            "grid_area": null,
            "grid_auto_columns": null,
            "grid_auto_flow": null,
            "grid_auto_rows": null,
            "grid_column": null,
            "grid_gap": null,
            "grid_row": null,
            "grid_template_areas": null,
            "grid_template_columns": null,
            "grid_template_rows": null,
            "height": null,
            "justify_content": null,
            "justify_items": null,
            "left": null,
            "margin": null,
            "max_height": null,
            "max_width": null,
            "min_height": null,
            "min_width": null,
            "object_fit": null,
            "object_position": null,
            "order": null,
            "overflow": null,
            "overflow_x": null,
            "overflow_y": null,
            "padding": null,
            "right": null,
            "top": null,
            "visibility": null,
            "width": null
          }
        }
      }
    }
  },
  "nbformat": 4,
  "nbformat_minor": 0
}
